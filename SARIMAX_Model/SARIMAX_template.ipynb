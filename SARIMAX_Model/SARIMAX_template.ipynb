{
 "cells": [
  {
   "cell_type": "markdown",
   "metadata": {},
   "source": [
    "# SARIMAX"
   ]
  },
  {
   "cell_type": "markdown",
   "metadata": {},
   "source": [
    "#### Defintion:\n",
    "- Seasonality\n",
    "- Auto regressive: past values to predict future values \n",
    "- Integrated:\n",
    "- Moving Average: past errors to forecast future values\n",
    "#### Features:\n",
    "- Requires data to be stationary i.e. it has some pattern\n",
    "- Allows external regressors (moving seasonality - black friday, diwali, events outside company like corona, events caused by company like major investment) \n",
    "#### Optimizing Factors:\n",
    "- p, P: order of autoregressive (no. of unknown terms that multiply your signal at past times\n",
    "- d, D: degree of 1st differencing for stationary data \n",
    "- q, Q: order of moving average part \n"
   ]
  },
  {
   "cell_type": "code",
   "execution_count": 1,
   "metadata": {},
   "outputs": [
    {
     "name": "stdout",
     "output_type": "stream",
     "text": [
      "Requirement already satisfied: pmdarima in c:\\users\\priyashukla\\appdata\\local\\anaconda3\\envs\\stan_env\\lib\\site-packages (2.0.4)\n",
      "Requirement already satisfied: urllib3 in c:\\users\\priyashukla\\appdata\\local\\anaconda3\\envs\\stan_env\\lib\\site-packages (from pmdarima) (2.0.7)\n",
      "Requirement already satisfied: pandas>=0.19 in c:\\users\\priyashukla\\appdata\\local\\anaconda3\\envs\\stan_env\\lib\\site-packages (from pmdarima) (1.3.5)\n",
      "Requirement already satisfied: numpy>=1.21.2 in c:\\users\\priyashukla\\appdata\\local\\anaconda3\\envs\\stan_env\\lib\\site-packages (from pmdarima) (1.21.6)\n",
      "Requirement already satisfied: Cython!=0.29.18,!=0.29.31,>=0.29 in c:\\users\\priyashukla\\appdata\\local\\anaconda3\\envs\\stan_env\\lib\\site-packages (from pmdarima) (3.0.8)\n",
      "Requirement already satisfied: scipy>=1.3.2 in c:\\users\\priyashukla\\appdata\\local\\anaconda3\\envs\\stan_env\\lib\\site-packages (from pmdarima) (1.7.3)\n",
      "Requirement already satisfied: joblib>=0.11 in c:\\users\\priyashukla\\appdata\\local\\anaconda3\\envs\\stan_env\\lib\\site-packages (from pmdarima) (1.3.2)\n",
      "Requirement already satisfied: statsmodels>=0.13.2 in c:\\users\\priyashukla\\appdata\\local\\anaconda3\\envs\\stan_env\\lib\\site-packages (from pmdarima) (0.13.5)\n",
      "Requirement already satisfied: setuptools!=50.0.0,>=38.6.0 in c:\\users\\priyashukla\\appdata\\local\\anaconda3\\envs\\stan_env\\lib\\site-packages (from pmdarima) (65.6.3)\n",
      "Requirement already satisfied: packaging>=17.1 in c:\\users\\priyashukla\\appdata\\local\\anaconda3\\envs\\stan_env\\lib\\site-packages (from pmdarima) (23.2)\n",
      "Requirement already satisfied: scikit-learn>=0.22 in c:\\users\\priyashukla\\appdata\\local\\anaconda3\\envs\\stan_env\\lib\\site-packages (from pmdarima) (1.0.2)\n",
      "Requirement already satisfied: pytz>=2017.3 in c:\\users\\priyashukla\\appdata\\local\\anaconda3\\envs\\stan_env\\lib\\site-packages (from pandas>=0.19->pmdarima) (2024.1)\n",
      "Requirement already satisfied: python-dateutil>=2.7.3 in c:\\users\\priyashukla\\appdata\\local\\anaconda3\\envs\\stan_env\\lib\\site-packages (from pandas>=0.19->pmdarima) (2.8.2)\n",
      "Requirement already satisfied: threadpoolctl>=2.0.0 in c:\\users\\priyashukla\\appdata\\local\\anaconda3\\envs\\stan_env\\lib\\site-packages (from scikit-learn>=0.22->pmdarima) (3.1.0)\n",
      "Requirement already satisfied: patsy>=0.5.2 in c:\\users\\priyashukla\\appdata\\local\\anaconda3\\envs\\stan_env\\lib\\site-packages (from statsmodels>=0.13.2->pmdarima) (0.5.6)\n",
      "Requirement already satisfied: six in c:\\users\\priyashukla\\appdata\\local\\anaconda3\\envs\\stan_env\\lib\\site-packages (from patsy>=0.5.2->statsmodels>=0.13.2->pmdarima) (1.16.0)\n"
     ]
    }
   ],
   "source": [
    "!pip install pmdarima"
   ]
  },
  {
   "cell_type": "markdown",
   "metadata": {
    "id": "KziJ91gPrZO3"
   },
   "source": [
    "# Import libraries and data\n"
   ]
  },
  {
   "cell_type": "code",
   "execution_count": 2,
   "metadata": {
    "id": "nJQoK7c4r3SR"
   },
   "outputs": [],
   "source": [
    "#import libraries\n",
    "import pandas as pd\n",
    "import numpy as np"
   ]
  },
  {
   "cell_type": "code",
   "execution_count": 4,
   "metadata": {
    "colab": {
     "base_uri": "https://localhost:8080/",
     "height": 147
    },
    "executionInfo": {
     "elapsed": 1520,
     "status": "ok",
     "timestamp": 1619587105072,
     "user": {
      "displayName": "Diogo Resende",
      "photoUrl": "https://lh3.googleusercontent.com/a-/AOh14GgH4DE06-yE1oiIzCiaAURCl1Escr4LXXiaSnbSaA=s64",
      "userId": "05706604408624562002"
     },
     "user_tz": -120
    },
    "id": "kYo4C4W5sbSv",
    "outputId": "4166f301-06f8-4565-9398-81ed4759547b"
   },
   "outputs": [
    {
     "data": {
      "text/html": [
       "<div>\n",
       "<style scoped>\n",
       "    .dataframe tbody tr th:only-of-type {\n",
       "        vertical-align: middle;\n",
       "    }\n",
       "\n",
       "    .dataframe tbody tr th {\n",
       "        vertical-align: top;\n",
       "    }\n",
       "\n",
       "    .dataframe thead th {\n",
       "        text-align: right;\n",
       "    }\n",
       "</style>\n",
       "<table border=\"1\" class=\"dataframe\">\n",
       "  <thead>\n",
       "    <tr style=\"text-align: right;\">\n",
       "      <th></th>\n",
       "      <th>instant</th>\n",
       "      <th>season</th>\n",
       "      <th>yr</th>\n",
       "      <th>mnth</th>\n",
       "      <th>holiday</th>\n",
       "      <th>weekday</th>\n",
       "      <th>workingday</th>\n",
       "      <th>weathersit</th>\n",
       "      <th>temp</th>\n",
       "      <th>atemp</th>\n",
       "      <th>hum</th>\n",
       "      <th>windspeed</th>\n",
       "      <th>casual</th>\n",
       "      <th>registered</th>\n",
       "      <th>cnt</th>\n",
       "    </tr>\n",
       "    <tr>\n",
       "      <th>dteday</th>\n",
       "      <th></th>\n",
       "      <th></th>\n",
       "      <th></th>\n",
       "      <th></th>\n",
       "      <th></th>\n",
       "      <th></th>\n",
       "      <th></th>\n",
       "      <th></th>\n",
       "      <th></th>\n",
       "      <th></th>\n",
       "      <th></th>\n",
       "      <th></th>\n",
       "      <th></th>\n",
       "      <th></th>\n",
       "      <th></th>\n",
       "    </tr>\n",
       "  </thead>\n",
       "  <tbody>\n",
       "    <tr>\n",
       "      <th>2011-01-01</th>\n",
       "      <td>1</td>\n",
       "      <td>1</td>\n",
       "      <td>0</td>\n",
       "      <td>1</td>\n",
       "      <td>0</td>\n",
       "      <td>6</td>\n",
       "      <td>0</td>\n",
       "      <td>2</td>\n",
       "      <td>0.344167</td>\n",
       "      <td>0.363625</td>\n",
       "      <td>0.805833</td>\n",
       "      <td>0.160446</td>\n",
       "      <td>331</td>\n",
       "      <td>654</td>\n",
       "      <td>985</td>\n",
       "    </tr>\n",
       "  </tbody>\n",
       "</table>\n",
       "</div>"
      ],
      "text/plain": [
       "            instant  season  yr  mnth  holiday  weekday  workingday  \\\n",
       "dteday                                                                \n",
       "2011-01-01        1       1   0     1        0        6           0   \n",
       "\n",
       "            weathersit      temp     atemp       hum  windspeed  casual  \\\n",
       "dteday                                                                    \n",
       "2011-01-01           2  0.344167  0.363625  0.805833   0.160446     331   \n",
       "\n",
       "            registered  cnt  \n",
       "dteday                       \n",
       "2011-01-01         654  985  "
      ]
     },
     "execution_count": 4,
     "metadata": {},
     "output_type": "execute_result"
    }
   ],
   "source": [
    "#get the data\n",
    "data = pd.read_csv(\"Daily Bike Sharing.csv\", \n",
    "                   index_col = \"dteday\", \n",
    "                   parse_dates = True)\n",
    "data.head(1)"
   ]
  },
  {
   "cell_type": "code",
   "execution_count": 5,
   "metadata": {
    "colab": {
     "base_uri": "https://localhost:8080/",
     "height": 110
    },
    "executionInfo": {
     "elapsed": 788,
     "status": "ok",
     "timestamp": 1619587107418,
     "user": {
      "displayName": "Diogo Resende",
      "photoUrl": "https://lh3.googleusercontent.com/a-/AOh14GgH4DE06-yE1oiIzCiaAURCl1Escr4LXXiaSnbSaA=s64",
      "userId": "05706604408624562002"
     },
     "user_tz": -120
    },
    "id": "QPEJCVShvlyi",
    "outputId": "7e3f0fd0-c110-4720-e551-b03bc7e682da"
   },
   "outputs": [
    {
     "data": {
      "text/html": [
       "<div>\n",
       "<style scoped>\n",
       "    .dataframe tbody tr th:only-of-type {\n",
       "        vertical-align: middle;\n",
       "    }\n",
       "\n",
       "    .dataframe tbody tr th {\n",
       "        vertical-align: top;\n",
       "    }\n",
       "\n",
       "    .dataframe thead th {\n",
       "        text-align: right;\n",
       "    }\n",
       "</style>\n",
       "<table border=\"1\" class=\"dataframe\">\n",
       "  <thead>\n",
       "    <tr style=\"text-align: right;\">\n",
       "      <th></th>\n",
       "      <th>cnt</th>\n",
       "      <th>holiday</th>\n",
       "      <th>workingday</th>\n",
       "      <th>weathersit</th>\n",
       "      <th>temp</th>\n",
       "      <th>atemp</th>\n",
       "      <th>hum</th>\n",
       "      <th>windspeed</th>\n",
       "    </tr>\n",
       "    <tr>\n",
       "      <th>dteday</th>\n",
       "      <th></th>\n",
       "      <th></th>\n",
       "      <th></th>\n",
       "      <th></th>\n",
       "      <th></th>\n",
       "      <th></th>\n",
       "      <th></th>\n",
       "      <th></th>\n",
       "    </tr>\n",
       "  </thead>\n",
       "  <tbody>\n",
       "    <tr>\n",
       "      <th>2011-01-01</th>\n",
       "      <td>985</td>\n",
       "      <td>0</td>\n",
       "      <td>0</td>\n",
       "      <td>2</td>\n",
       "      <td>0.344167</td>\n",
       "      <td>0.363625</td>\n",
       "      <td>0.805833</td>\n",
       "      <td>0.160446</td>\n",
       "    </tr>\n",
       "  </tbody>\n",
       "</table>\n",
       "</div>"
      ],
      "text/plain": [
       "            cnt  holiday  workingday  weathersit      temp     atemp  \\\n",
       "dteday                                                                 \n",
       "2011-01-01  985        0           0           2  0.344167  0.363625   \n",
       "\n",
       "                 hum  windspeed  \n",
       "dteday                           \n",
       "2011-01-01  0.805833   0.160446  "
      ]
     },
     "execution_count": 5,
     "metadata": {},
     "output_type": "execute_result"
    }
   ],
   "source": [
    "#select variables\n",
    "dataset = data.loc[:, [\"cnt\", \"holiday\", \"workingday\", \"weathersit\",\n",
    "                       \"temp\", \"atemp\", \"hum\", \"windspeed\"]]\n",
    "dataset.head(1)                       "
   ]
  },
  {
   "cell_type": "markdown",
   "metadata": {
    "id": "IK3ssLEvw9iy"
   },
   "source": [
    "# Data Transformation"
   ]
  },
  {
   "cell_type": "code",
   "execution_count": 6,
   "metadata": {
    "colab": {
     "base_uri": "https://localhost:8080/",
     "height": 110
    },
    "executionInfo": {
     "elapsed": 916,
     "status": "ok",
     "timestamp": 1619587109399,
     "user": {
      "displayName": "Diogo Resende",
      "photoUrl": "https://lh3.googleusercontent.com/a-/AOh14GgH4DE06-yE1oiIzCiaAURCl1Escr4LXXiaSnbSaA=s64",
      "userId": "05706604408624562002"
     },
     "user_tz": -120
    },
    "id": "95mCg5Eyw8Ym",
    "outputId": "29a8e487-c082-4db1-cb51-89cbc672beba"
   },
   "outputs": [
    {
     "data": {
      "text/html": [
       "<div>\n",
       "<style scoped>\n",
       "    .dataframe tbody tr th:only-of-type {\n",
       "        vertical-align: middle;\n",
       "    }\n",
       "\n",
       "    .dataframe tbody tr th {\n",
       "        vertical-align: top;\n",
       "    }\n",
       "\n",
       "    .dataframe thead th {\n",
       "        text-align: right;\n",
       "    }\n",
       "</style>\n",
       "<table border=\"1\" class=\"dataframe\">\n",
       "  <thead>\n",
       "    <tr style=\"text-align: right;\">\n",
       "      <th></th>\n",
       "      <th>y</th>\n",
       "      <th>holiday</th>\n",
       "      <th>workingday</th>\n",
       "      <th>weathersit</th>\n",
       "      <th>temp</th>\n",
       "      <th>atemp</th>\n",
       "      <th>hum</th>\n",
       "      <th>windspeed</th>\n",
       "    </tr>\n",
       "    <tr>\n",
       "      <th>dteday</th>\n",
       "      <th></th>\n",
       "      <th></th>\n",
       "      <th></th>\n",
       "      <th></th>\n",
       "      <th></th>\n",
       "      <th></th>\n",
       "      <th></th>\n",
       "      <th></th>\n",
       "    </tr>\n",
       "  </thead>\n",
       "  <tbody>\n",
       "    <tr>\n",
       "      <th>2011-01-01</th>\n",
       "      <td>985</td>\n",
       "      <td>0</td>\n",
       "      <td>0</td>\n",
       "      <td>2</td>\n",
       "      <td>0.344167</td>\n",
       "      <td>0.363625</td>\n",
       "      <td>0.805833</td>\n",
       "      <td>0.160446</td>\n",
       "    </tr>\n",
       "  </tbody>\n",
       "</table>\n",
       "</div>"
      ],
      "text/plain": [
       "              y  holiday  workingday  weathersit      temp     atemp  \\\n",
       "dteday                                                                 \n",
       "2011-01-01  985        0           0           2  0.344167  0.363625   \n",
       "\n",
       "                 hum  windspeed  \n",
       "dteday                           \n",
       "2011-01-01  0.805833   0.160446  "
      ]
     },
     "execution_count": 6,
     "metadata": {},
     "output_type": "execute_result"
    }
   ],
   "source": [
    "#renaming variable\n",
    "dataset = dataset.rename(columns = {'cnt' : 'y'})\n",
    "dataset.head(1)"
   ]
  },
  {
   "cell_type": "code",
   "execution_count": 7,
   "metadata": {
    "colab": {
     "base_uri": "https://localhost:8080/"
    },
    "executionInfo": {
     "elapsed": 788,
     "status": "ok",
     "timestamp": 1619587111373,
     "user": {
      "displayName": "Diogo Resende",
      "photoUrl": "https://lh3.googleusercontent.com/a-/AOh14GgH4DE06-yE1oiIzCiaAURCl1Escr4LXXiaSnbSaA=s64",
      "userId": "05706604408624562002"
     },
     "user_tz": -120
    },
    "id": "XvtrxMiCx1xB",
    "outputId": "1569f552-12a4-4e34-8e60-a86599c9c64b"
   },
   "outputs": [
    {
     "data": {
      "text/plain": [
       "DatetimeIndex(['2011-01-01', '2011-01-02', '2011-01-03', '2011-01-04',\n",
       "               '2011-01-05', '2011-01-06', '2011-01-07', '2011-01-08',\n",
       "               '2011-01-09', '2011-01-10',\n",
       "               ...\n",
       "               '2012-12-22', '2012-12-23', '2012-12-24', '2012-12-25',\n",
       "               '2012-12-26', '2012-12-27', '2012-12-28', '2012-12-29',\n",
       "               '2012-12-30', '2012-12-31'],\n",
       "              dtype='datetime64[ns]', name='dteday', length=731, freq='D')"
      ]
     },
     "execution_count": 7,
     "metadata": {},
     "output_type": "execute_result"
    }
   ],
   "source": [
    "#index\n",
    "dataset = dataset.asfreq(\"D\")\n",
    "dataset.index"
   ]
  },
  {
   "cell_type": "markdown",
   "metadata": {
    "id": "UOFXXpN0zJzG"
   },
   "source": [
    "# Visualization"
   ]
  },
  {
   "cell_type": "code",
   "execution_count": 8,
   "metadata": {
    "colab": {
     "base_uri": "https://localhost:8080/",
     "height": 471
    },
    "executionInfo": {
     "elapsed": 1528,
     "status": "ok",
     "timestamp": 1619587115038,
     "user": {
      "displayName": "Diogo Resende",
      "photoUrl": "https://lh3.googleusercontent.com/a-/AOh14GgH4DE06-yE1oiIzCiaAURCl1Escr4LXXiaSnbSaA=s64",
      "userId": "05706604408624562002"
     },
     "user_tz": -120
    },
    "id": "daOe0kTjzMPY",
    "outputId": "96e86955-2a93-4dd1-a660-12d0a883f38d"
   },
   "outputs": [
    {
     "data": {
      "text/plain": [
       "<AxesSubplot:xlabel='dteday'>"
      ]
     },
     "execution_count": 8,
     "metadata": {},
     "output_type": "execute_result"
    },
    {
     "data": {
      "image/png": "[encoded data removed]",
      "text/plain": [
       "<Figure size 1000x700 with 1 Axes>"
      ]
     },
     "metadata": {},
     "output_type": "display_data"
    }
   ],
   "source": [
    "#viz\n",
    "dataset[\"y\"].plot(figsize = (10, 7), legend = True)"
   ]
  },
  {
   "cell_type": "markdown",
   "metadata": {},
   "source": [
    "# Stationarity"
   ]
  },
  {
   "cell_type": "code",
   "execution_count": 11,
   "metadata": {},
   "outputs": [
    {
     "name": "stdout",
     "output_type": "stream",
     "text": [
      "Augmented Dickey Fuller p-value: 0.342743\n"
     ]
    }
   ],
   "source": [
    "#stationarity \n",
    "\n",
    "from statsmodels.tsa.stattools import adfuller\n",
    "stationarity = adfuller(dataset['y'])\n",
    "print('Augmented Dickey Fuller p-value: %F' % stationarity[1])"
   ]
  },
  {
   "cell_type": "markdown",
   "metadata": {
    "id": "yc4bHuUuEX_u"
   },
   "source": [
    "# Training and Test Set"
   ]
  },
  {
   "cell_type": "code",
   "execution_count": 12,
   "metadata": {
    "colab": {
     "base_uri": "https://localhost:8080/",
     "height": 110
    },
    "executionInfo": {
     "elapsed": 867,
     "status": "ok",
     "timestamp": 1619587120307,
     "user": {
      "displayName": "Diogo Resende",
      "photoUrl": "https://lh3.googleusercontent.com/a-/AOh14GgH4DE06-yE1oiIzCiaAURCl1Escr4LXXiaSnbSaA=s64",
      "userId": "05706604408624562002"
     },
     "user_tz": -120
    },
    "id": "f4CyGbspEaYF",
    "outputId": "a9fb5f4b-9c7a-48b9-e918-c06866336bd5"
   },
   "outputs": [
    {
     "data": {
      "text/html": [
       "<div>\n",
       "<style scoped>\n",
       "    .dataframe tbody tr th:only-of-type {\n",
       "        vertical-align: middle;\n",
       "    }\n",
       "\n",
       "    .dataframe tbody tr th {\n",
       "        vertical-align: top;\n",
       "    }\n",
       "\n",
       "    .dataframe thead th {\n",
       "        text-align: right;\n",
       "    }\n",
       "</style>\n",
       "<table border=\"1\" class=\"dataframe\">\n",
       "  <thead>\n",
       "    <tr style=\"text-align: right;\">\n",
       "      <th></th>\n",
       "      <th>y</th>\n",
       "      <th>holiday</th>\n",
       "      <th>workingday</th>\n",
       "      <th>weathersit</th>\n",
       "      <th>temp</th>\n",
       "      <th>atemp</th>\n",
       "      <th>hum</th>\n",
       "      <th>windspeed</th>\n",
       "    </tr>\n",
       "    <tr>\n",
       "      <th>dteday</th>\n",
       "      <th></th>\n",
       "      <th></th>\n",
       "      <th></th>\n",
       "      <th></th>\n",
       "      <th></th>\n",
       "      <th></th>\n",
       "      <th></th>\n",
       "      <th></th>\n",
       "    </tr>\n",
       "  </thead>\n",
       "  <tbody>\n",
       "    <tr>\n",
       "      <th>2012-12-31</th>\n",
       "      <td>2729</td>\n",
       "      <td>0</td>\n",
       "      <td>1</td>\n",
       "      <td>2</td>\n",
       "      <td>0.215833</td>\n",
       "      <td>0.223487</td>\n",
       "      <td>0.5775</td>\n",
       "      <td>0.154846</td>\n",
       "    </tr>\n",
       "  </tbody>\n",
       "</table>\n",
       "</div>"
      ],
      "text/plain": [
       "               y  holiday  workingday  weathersit      temp     atemp     hum  \\\n",
       "dteday                                                                          \n",
       "2012-12-31  2729        0           1           2  0.215833  0.223487  0.5775   \n",
       "\n",
       "            windspeed  \n",
       "dteday                 \n",
       "2012-12-31   0.154846  "
      ]
     },
     "execution_count": 12,
     "metadata": {},
     "output_type": "execute_result"
    }
   ],
   "source": [
    "#Training and test set\n",
    "test_days = 31\n",
    "training_set = dataset.iloc[:-test_days, :]\n",
    "test_set = dataset.iloc[-test_days:, :]\n",
    "test_set.tail(1)"
   ]
  },
  {
   "cell_type": "markdown",
   "metadata": {
    "id": "g3q5LU6OMgRM"
   },
   "source": [
    "# SARIMAX Model"
   ]
  },
  {
   "cell_type": "code",
   "execution_count": 13,
   "metadata": {},
   "outputs": [
    {
     "data": {
      "text/html": [
       "<div>\n",
       "<style scoped>\n",
       "    .dataframe tbody tr th:only-of-type {\n",
       "        vertical-align: middle;\n",
       "    }\n",
       "\n",
       "    .dataframe tbody tr th {\n",
       "        vertical-align: top;\n",
       "    }\n",
       "\n",
       "    .dataframe thead th {\n",
       "        text-align: right;\n",
       "    }\n",
       "</style>\n",
       "<table border=\"1\" class=\"dataframe\">\n",
       "  <thead>\n",
       "    <tr style=\"text-align: right;\">\n",
       "      <th></th>\n",
       "      <th>holiday</th>\n",
       "      <th>workingday</th>\n",
       "      <th>weathersit</th>\n",
       "      <th>temp</th>\n",
       "      <th>atemp</th>\n",
       "      <th>hum</th>\n",
       "      <th>windspeed</th>\n",
       "    </tr>\n",
       "    <tr>\n",
       "      <th>dteday</th>\n",
       "      <th></th>\n",
       "      <th></th>\n",
       "      <th></th>\n",
       "      <th></th>\n",
       "      <th></th>\n",
       "      <th></th>\n",
       "      <th></th>\n",
       "    </tr>\n",
       "  </thead>\n",
       "  <tbody>\n",
       "    <tr>\n",
       "      <th>2012-12-01</th>\n",
       "      <td>0</td>\n",
       "      <td>0</td>\n",
       "      <td>2</td>\n",
       "      <td>0.298333</td>\n",
       "      <td>0.316904</td>\n",
       "      <td>0.806667</td>\n",
       "      <td>0.059704</td>\n",
       "    </tr>\n",
       "    <tr>\n",
       "      <th>2012-12-02</th>\n",
       "      <td>0</td>\n",
       "      <td>0</td>\n",
       "      <td>2</td>\n",
       "      <td>0.347500</td>\n",
       "      <td>0.359208</td>\n",
       "      <td>0.823333</td>\n",
       "      <td>0.124379</td>\n",
       "    </tr>\n",
       "    <tr>\n",
       "      <th>2012-12-03</th>\n",
       "      <td>0</td>\n",
       "      <td>1</td>\n",
       "      <td>1</td>\n",
       "      <td>0.452500</td>\n",
       "      <td>0.455796</td>\n",
       "      <td>0.767500</td>\n",
       "      <td>0.082721</td>\n",
       "    </tr>\n",
       "    <tr>\n",
       "      <th>2012-12-04</th>\n",
       "      <td>0</td>\n",
       "      <td>1</td>\n",
       "      <td>1</td>\n",
       "      <td>0.475833</td>\n",
       "      <td>0.469054</td>\n",
       "      <td>0.733750</td>\n",
       "      <td>0.174129</td>\n",
       "    </tr>\n",
       "    <tr>\n",
       "      <th>2012-12-05</th>\n",
       "      <td>0</td>\n",
       "      <td>1</td>\n",
       "      <td>1</td>\n",
       "      <td>0.438333</td>\n",
       "      <td>0.428012</td>\n",
       "      <td>0.485000</td>\n",
       "      <td>0.324021</td>\n",
       "    </tr>\n",
       "  </tbody>\n",
       "</table>\n",
       "</div>"
      ],
      "text/plain": [
       "            holiday  workingday  weathersit      temp     atemp       hum  \\\n",
       "dteday                                                                      \n",
       "2012-12-01        0           0           2  0.298333  0.316904  0.806667   \n",
       "2012-12-02        0           0           2  0.347500  0.359208  0.823333   \n",
       "2012-12-03        0           1           1  0.452500  0.455796  0.767500   \n",
       "2012-12-04        0           1           1  0.475833  0.469054  0.733750   \n",
       "2012-12-05        0           1           1  0.438333  0.428012  0.485000   \n",
       "\n",
       "            windspeed  \n",
       "dteday                 \n",
       "2012-12-01   0.059704  \n",
       "2012-12-02   0.124379  \n",
       "2012-12-03   0.082721  \n",
       "2012-12-04   0.174129  \n",
       "2012-12-05   0.324021  "
      ]
     },
     "execution_count": 13,
     "metadata": {},
     "output_type": "execute_result"
    }
   ],
   "source": [
    "#exogenous variables\n",
    "train_exog = training_set.iloc[:,1:]\n",
    "test_exog = test_set.iloc[:,1:]\n",
    "test_exog.head()"
   ]
  },
  {
   "cell_type": "code",
   "execution_count": 14,
   "metadata": {
    "colab": {
     "base_uri": "https://localhost:8080/"
    },
    "executionInfo": {
     "elapsed": 1212,
     "status": "ok",
     "timestamp": 1619587123794,
     "user": {
      "displayName": "Diogo Resende",
      "photoUrl": "https://lh3.googleusercontent.com/a-/AOh14GgH4DE06-yE1oiIzCiaAURCl1Escr4LXXiaSnbSaA=s64",
      "userId": "05706604408624562002"
     },
     "user_tz": -120
    },
    "id": "VE2R918XMksb",
    "outputId": "d5cd2701-d719-443a-c118-e86e93f8bfe7"
   },
   "outputs": [],
   "source": [
    "#libraries\n",
    "from pmdarima import auto_arima"
   ]
  },
  {
   "cell_type": "code",
   "execution_count": 28,
   "metadata": {
    "id": "BZN87GKaMq1u"
   },
   "outputs": [],
   "source": [
    "#forecasting model\n",
    "model = auto_arima(y = training_set['y'],\n",
    "                  X = train_exog,\n",
    "                  m = 7,\n",
    "                  seasonal = True,\n",
    "                  stepwise = False)"
   ]
  },
  {
   "cell_type": "code",
   "execution_count": 29,
   "metadata": {},
   "outputs": [
    {
     "data": {
      "text/html": [
       "<table class=\"simpletable\">\n",
       "<caption>SARIMAX Results</caption>\n",
       "<tr>\n",
       "  <th>Dep. Variable:</th>           <td>y</td>        <th>  No. Observations:  </th>    <td>700</td>   \n",
       "</tr>\n",
       "<tr>\n",
       "  <th>Model:</th>           <td>SARIMAX(0, 1, 3)</td> <th>  Log Likelihood     </th> <td>-5596.921</td>\n",
       "</tr>\n",
       "<tr>\n",
       "  <th>Date:</th>            <td>Tue, 19 Mar 2024</td> <th>  AIC                </th> <td>11217.842</td>\n",
       "</tr>\n",
       "<tr>\n",
       "  <th>Time:</th>                <td>16:23:34</td>     <th>  BIC                </th> <td>11272.438</td>\n",
       "</tr>\n",
       "<tr>\n",
       "  <th>Sample:</th>             <td>01-01-2011</td>    <th>  HQIC               </th> <td>11238.948</td>\n",
       "</tr>\n",
       "<tr>\n",
       "  <th></th>                   <td>- 11-30-2012</td>   <th>                     </th>     <td> </td>    \n",
       "</tr>\n",
       "<tr>\n",
       "  <th>Covariance Type:</th>        <td>opg</td>       <th>                     </th>     <td> </td>    \n",
       "</tr>\n",
       "</table>\n",
       "<table class=\"simpletable\">\n",
       "<tr>\n",
       "       <td></td>         <th>coef</th>     <th>std err</th>      <th>z</th>      <th>P>|z|</th>  <th>[0.025</th>    <th>0.975]</th>  \n",
       "</tr>\n",
       "<tr>\n",
       "  <th>intercept</th>  <td>    4.3786</td> <td>    5.563</td> <td>    0.787</td> <td> 0.431</td> <td>   -6.525</td> <td>   15.282</td>\n",
       "</tr>\n",
       "<tr>\n",
       "  <th>holiday</th>    <td> -240.6071</td> <td>  129.157</td> <td>   -1.863</td> <td> 0.062</td> <td> -493.750</td> <td>   12.536</td>\n",
       "</tr>\n",
       "<tr>\n",
       "  <th>workingday</th> <td>   89.6453</td> <td>   60.552</td> <td>    1.480</td> <td> 0.139</td> <td>  -29.034</td> <td>  208.324</td>\n",
       "</tr>\n",
       "<tr>\n",
       "  <th>weathersit</th> <td> -459.7528</td> <td>   51.321</td> <td>   -8.958</td> <td> 0.000</td> <td> -560.340</td> <td> -359.166</td>\n",
       "</tr>\n",
       "<tr>\n",
       "  <th>temp</th>       <td> 3421.4269</td> <td> 1171.111</td> <td>    2.922</td> <td> 0.003</td> <td> 1126.092</td> <td> 5716.762</td>\n",
       "</tr>\n",
       "<tr>\n",
       "  <th>atemp</th>      <td> 1970.4030</td> <td> 1197.727</td> <td>    1.645</td> <td> 0.100</td> <td> -377.099</td> <td> 4317.905</td>\n",
       "</tr>\n",
       "<tr>\n",
       "  <th>hum</th>        <td>-2280.0718</td> <td>  198.556</td> <td>  -11.483</td> <td> 0.000</td> <td>-2669.235</td> <td>-1890.908</td>\n",
       "</tr>\n",
       "<tr>\n",
       "  <th>windspeed</th>  <td>-2275.8092</td> <td>  373.473</td> <td>   -6.094</td> <td> 0.000</td> <td>-3007.803</td> <td>-1543.816</td>\n",
       "</tr>\n",
       "<tr>\n",
       "  <th>ma.L1</th>      <td>   -0.5548</td> <td>    0.028</td> <td>  -19.644</td> <td> 0.000</td> <td>   -0.610</td> <td>   -0.499</td>\n",
       "</tr>\n",
       "<tr>\n",
       "  <th>ma.L2</th>      <td>   -0.1350</td> <td>    0.039</td> <td>   -3.427</td> <td> 0.001</td> <td>   -0.212</td> <td>   -0.058</td>\n",
       "</tr>\n",
       "<tr>\n",
       "  <th>ma.L3</th>      <td>   -0.1439</td> <td>    0.040</td> <td>   -3.598</td> <td> 0.000</td> <td>   -0.222</td> <td>   -0.066</td>\n",
       "</tr>\n",
       "<tr>\n",
       "  <th>sigma2</th>     <td> 5.264e+05</td> <td> 2.02e+04</td> <td>   26.099</td> <td> 0.000</td> <td> 4.87e+05</td> <td> 5.66e+05</td>\n",
       "</tr>\n",
       "</table>\n",
       "<table class=\"simpletable\">\n",
       "<tr>\n",
       "  <th>Ljung-Box (L1) (Q):</th>     <td>0.01</td> <th>  Jarque-Bera (JB):  </th> <td>624.40</td>\n",
       "</tr>\n",
       "<tr>\n",
       "  <th>Prob(Q):</th>                <td>0.92</td> <th>  Prob(JB):          </th>  <td>0.00</td> \n",
       "</tr>\n",
       "<tr>\n",
       "  <th>Heteroskedasticity (H):</th> <td>2.51</td> <th>  Skew:              </th>  <td>-0.92</td>\n",
       "</tr>\n",
       "<tr>\n",
       "  <th>Prob(H) (two-sided):</th>    <td>0.00</td> <th>  Kurtosis:          </th>  <td>7.25</td> \n",
       "</tr>\n",
       "</table><br/><br/>Warnings:<br/>[1] Covariance matrix calculated using the outer product of gradients (complex-step)."
      ],
      "text/plain": [
       "<class 'statsmodels.iolib.summary.Summary'>\n",
       "\"\"\"\n",
       "                               SARIMAX Results                                \n",
       "==============================================================================\n",
       "Dep. Variable:                      y   No. Observations:                  700\n",
       "Model:               SARIMAX(0, 1, 3)   Log Likelihood               -5596.921\n",
       "Date:                Tue, 19 Mar 2024   AIC                          11217.842\n",
       "Time:                        16:23:34   BIC                          11272.438\n",
       "Sample:                    01-01-2011   HQIC                         11238.948\n",
       "                         - 11-30-2012                                         \n",
       "Covariance Type:                  opg                                         \n",
       "==============================================================================\n",
       "                 coef    std err          z      P>|z|      [0.025      0.975]\n",
       "------------------------------------------------------------------------------\n",
       "intercept      4.3786      5.563      0.787      0.431      -6.525      15.282\n",
       "holiday     -240.6071    129.157     -1.863      0.062    -493.750      12.536\n",
       "workingday    89.6453     60.552      1.480      0.139     -29.034     208.324\n",
       "weathersit  -459.7528     51.321     -8.958      0.000    -560.340    -359.166\n",
       "temp        3421.4269   1171.111      2.922      0.003    1126.092    5716.762\n",
       "atemp       1970.4030   1197.727      1.645      0.100    -377.099    4317.905\n",
       "hum        -2280.0718    198.556    -11.483      0.000   -2669.235   -1890.908\n",
       "windspeed  -2275.8092    373.473     -6.094      0.000   -3007.803   -1543.816\n",
       "ma.L1         -0.5548      0.028    -19.644      0.000      -0.610      -0.499\n",
       "ma.L2         -0.1350      0.039     -3.427      0.001      -0.212      -0.058\n",
       "ma.L3         -0.1439      0.040     -3.598      0.000      -0.222      -0.066\n",
       "sigma2      5.264e+05   2.02e+04     26.099      0.000    4.87e+05    5.66e+05\n",
       "===================================================================================\n",
       "Ljung-Box (L1) (Q):                   0.01   Jarque-Bera (JB):               624.40\n",
       "Prob(Q):                              0.92   Prob(JB):                         0.00\n",
       "Heteroskedasticity (H):               2.51   Skew:                            -0.92\n",
       "Prob(H) (two-sided):                  0.00   Kurtosis:                         7.25\n",
       "===================================================================================\n",
       "\n",
       "Warnings:\n",
       "[1] Covariance matrix calculated using the outer product of gradients (complex-step).\n",
       "\"\"\""
      ]
     },
     "execution_count": 29,
     "metadata": {},
     "output_type": "execute_result"
    }
   ],
   "source": [
    "#summary \n",
    "model.summary()"
   ]
  },
  {
   "cell_type": "code",
   "execution_count": 30,
   "metadata": {
    "colab": {
     "base_uri": "https://localhost:8080/"
    },
    "executionInfo": {
     "elapsed": 968,
     "status": "ok",
     "timestamp": 1619587129721,
     "user": {
      "displayName": "Diogo Resende",
      "photoUrl": "https://lh3.googleusercontent.com/a-/AOh14GgH4DE06-yE1oiIzCiaAURCl1Escr4LXXiaSnbSaA=s64",
      "userId": "05706604408624562002"
     },
     "user_tz": -120
    },
    "id": "6tKDYKmSNbfi",
    "outputId": "3e0351a8-505b-4aed-b26e-a90843a3a078"
   },
   "outputs": [
    {
     "data": {
      "text/plain": [
       "dteday\n",
       "2012-12-01    4288.944788\n",
       "2012-12-02    4217.014940\n",
       "2012-12-03    5448.594067\n",
       "2012-12-04    5427.853272\n",
       "2012-12-05    5449.101402\n",
       "2012-12-06    4780.030951\n",
       "2012-12-07    4190.787558\n",
       "2012-12-08    4177.902314\n",
       "2012-12-09    4076.589608\n",
       "2012-12-10    4318.664070\n",
       "2012-12-11    4357.231969\n",
       "2012-12-12    4525.662223\n",
       "2012-12-13    5072.116338\n",
       "2012-12-14    4767.504348\n",
       "2012-12-15    4954.241721\n",
       "2012-12-16    4275.547125\n",
       "2012-12-17    4387.102088\n",
       "2012-12-18    5196.142034\n",
       "2012-12-19    4977.434373\n",
       "2012-12-20    4520.416866\n",
       "2012-12-21    4150.576141\n",
       "2012-12-22    4375.699937\n",
       "2012-12-23    4812.738900\n",
       "2012-12-24    3894.242701\n",
       "2012-12-25    3764.377369\n",
       "2012-12-26    2790.745898\n",
       "2012-12-27    3616.499515\n",
       "2012-12-28    4260.460875\n",
       "2012-12-29    3849.564384\n",
       "2012-12-30    4400.659802\n",
       "2012-12-31    4113.032642\n",
       "Freq: D, Name: SARIMAX, dtype: float64"
      ]
     },
     "execution_count": 30,
     "metadata": {},
     "output_type": "execute_result"
    }
   ],
   "source": [
    "#predictions\n",
    "predictions_sarimax = pd.Series(model.predict(n_periods=test_days, \n",
    "                             X = test_exog)).rename('SARIMAX')\n",
    "predictions_sarimax.index = test_set.index\n",
    "predictions_sarimax"
   ]
  },
  {
   "cell_type": "code",
   "execution_count": 31,
   "metadata": {
    "colab": {
     "base_uri": "https://localhost:8080/",
     "height": 417
    },
    "executionInfo": {
     "elapsed": 1643,
     "status": "ok",
     "timestamp": 1619587134419,
     "user": {
      "displayName": "Diogo Resende",
      "photoUrl": "https://lh3.googleusercontent.com/a-/AOh14GgH4DE06-yE1oiIzCiaAURCl1Escr4LXXiaSnbSaA=s64",
      "userId": "05706604408624562002"
     },
     "user_tz": -120
    },
    "id": "HraC5uGSOs0f",
    "outputId": "6fdb7cb6-8029-453c-a0e1-820ac83e8f4a"
   },
   "outputs": [
    {
     "data": {
      "text/plain": [
       "<AxesSubplot:xlabel='dteday'>"
      ]
     },
     "execution_count": 31,
     "metadata": {},
     "output_type": "execute_result"
    },
    {
     "data": {
      "image/png": "[encoded data removed]",
      "text/plain": [
       "<Figure size 900x600 with 1 Axes>"
      ]
     },
     "metadata": {},
     "output_type": "display_data"
    }
   ],
   "source": [
    "#visualization\n",
    "training_set['y']['2012-07-01':].plot(figsize = (9,6), legend = True)\n",
    "test_set['y'].plot(legend = True)\n",
    "predictions_sarimax.plot(legend = True)"
   ]
  },
  {
   "cell_type": "markdown",
   "metadata": {
    "id": "iKFJVffn9_Ei"
   },
   "source": [
    "# Model Assessment"
   ]
  },
  {
   "cell_type": "code",
   "execution_count": 32,
   "metadata": {
    "colab": {
     "base_uri": "https://localhost:8080/"
    },
    "executionInfo": {
     "elapsed": 727,
     "status": "ok",
     "timestamp": 1619588377491,
     "user": {
      "displayName": "Diogo Resende",
      "photoUrl": "https://lh3.googleusercontent.com/a-/AOh14GgH4DE06-yE1oiIzCiaAURCl1Escr4LXXiaSnbSaA=s64",
      "userId": "05706604408624562002"
     },
     "user_tz": -120
    },
    "id": "j7t9ftji-HCZ",
    "outputId": "01a15940-1c7b-41d2-f649-8b1bfc3e8ec4"
   },
   "outputs": [
    {
     "name": "stdout",
     "output_type": "stream",
     "text": [
      "1180.0\n",
      "1480.0\n"
     ]
    }
   ],
   "source": [
    "#MAE and RMSE\n",
    "from sklearn.metrics import mean_squared_error, mean_absolute_error\n",
    "print(round(mean_absolute_error(test_set['y'], predictions_sarimax),0))\n",
    "print(round(np.sqrt(mean_squared_error(test_set['y'], predictions_sarimax)), 0))"
   ]
  },
  {
   "cell_type": "code",
   "execution_count": 33,
   "metadata": {
    "colab": {
     "base_uri": "https://localhost:8080/"
    },
    "executionInfo": {
     "elapsed": 727,
     "status": "ok",
     "timestamp": 1619588851830,
     "user": {
      "displayName": "Diogo Resende",
      "photoUrl": "https://lh3.googleusercontent.com/a-/AOh14GgH4DE06-yE1oiIzCiaAURCl1Escr4LXXiaSnbSaA=s64",
      "userId": "05706604408624562002"
     },
     "user_tz": -120
    },
    "id": "qBiDRfr0AZH_",
    "outputId": "66372ad6-6528-421f-cd36-ccd3dc1e82fb"
   },
   "outputs": [
    {
     "data": {
      "text/plain": [
       "71.29802910896758"
      ]
     },
     "execution_count": 33,
     "metadata": {},
     "output_type": "execute_result"
    }
   ],
   "source": [
    "#MAPE function\n",
    "def MAPE(y_true, y_pred):\n",
    "  y_true, y_pred = np.array(y_true), np.array(y_pred)\n",
    "  return np.mean(np.abs((y_true - y_pred) / y_true)) * 100\n",
    "MAPE(test_set['y'], predictions_sarimax)"
   ]
  },
  {
   "cell_type": "markdown",
   "metadata": {
    "id": "xM4rHhXmBzY5"
   },
   "source": [
    "# Export Forecasts"
   ]
  },
  {
   "cell_type": "code",
   "execution_count": 34,
   "metadata": {
    "id": "sI_C2NcfB-pV"
   },
   "outputs": [],
   "source": [
    "predictions_sarimax.to_csv('predictions_sarimax.csv', index = True)"
   ]
  }
 ],
 "metadata": {
  "colab": {
   "authorship_tag": "ABX9TyN6Ugzv/0Y98sQyGgjZ0bsl",
   "mount_file_id": "11YgUXrLdNcOHj11FJswcWrJ9tQco7hIa",
   "name": "Master Script template.ipynb",
   "provenance": []
  },
  "kernelspec": {
   "display_name": "Python 3 (ipykernel)",
   "language": "python",
   "name": "python3"
  },
  "language_info": {
   "codemirror_mode": {
    "name": "ipython",
    "version": 3
   },
   "file_extension": ".py",
   "mimetype": "text/x-python",
   "name": "python",
   "nbconvert_exporter": "python",
   "pygments_lexer": "ipython3",
   "version": "3.7.16"
  }
 },
 "nbformat": 4,
 "nbformat_minor": 1
}
